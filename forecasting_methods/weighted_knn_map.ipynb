{
 "cells": [
  {
   "cell_type": "markdown",
   "metadata": {},
   "source": [
    "# Weighted K Nearest Neighbors"
   ]
  },
  {
   "cell_type": "markdown",
   "metadata": {},
   "source": [
    "Algorithm: compute the K nearest neighbors of a trajectory as the predicted trajectories"
   ]
  },
  {
   "cell_type": "code",
   "execution_count": 3,
   "metadata": {},
   "outputs": [],
   "source": [
    "%matplotlib inline\n",
    "import matplotlib.pyplot as plt\n",
    "import numpy as np\n",
    "import pickle\n",
    "import multiprocessing as mp"
   ]
  },
  {
   "cell_type": "code",
   "execution_count": 4,
   "metadata": {},
   "outputs": [],
   "source": [
    "from argoverse.data_loading.argoverse_forecasting_loader import ArgoverseForecastingLoader\n",
    "from argoverse.map_representation.map_api import ArgoverseMap\n",
    "from argoverse.visualization.visualize_sequences import viz_sequence\n",
    "from IPython.display import clear_output"
   ]
  },
  {
   "cell_type": "code",
   "execution_count": 5,
   "metadata": {},
   "outputs": [
    {
     "data": {
      "text/plain": [
       "\"\\n#root_dir = '/home/aaron/workspace/argoverse/data/forecasting_sample_v1.1/forecasting_sample/data'\\nroot_dir = '/home/aaron/workspace/argoverse/data/forecasting_train_v1.1/train/data'\\nafl = ArgoverseForecastingLoader(root_dir)\\navm = ArgoverseMap()\\nprint('Total number of sequences:',len(afl))\\n\""
      ]
     },
     "execution_count": 5,
     "metadata": {},
     "output_type": "execute_result"
    }
   ],
   "source": [
    "'''\n",
    "#root_dir = '/home/aaron/workspace/argoverse/data/forecasting_sample_v1.1/forecasting_sample/data'\n",
    "root_dir = '/home/aaron/workspace/argoverse/data/forecasting_train_v1.1/train/data'\n",
    "afl = ArgoverseForecastingLoader(root_dir)\n",
    "avm = ArgoverseMap()\n",
    "print('Total number of sequences:',len(afl))\n",
    "'''"
   ]
  },
  {
   "cell_type": "code",
   "execution_count": 6,
   "metadata": {},
   "outputs": [],
   "source": [
    "def normalize_trajectory(traj):\n",
    "    norm_traj = traj - traj[0]\n",
    "    theta = -np.arctan2(norm_traj[-1][1],norm_traj[-1][0])\n",
    "    rot_mat = ((np.cos(theta), -np.sin(theta)), (np.sin(theta), np.cos(theta)))\n",
    "    norm_traj = np.matmul(rot_mat, norm_traj.T).T\n",
    "    return norm_traj"
   ]
  },
  {
   "cell_type": "code",
   "execution_count": 7,
   "metadata": {},
   "outputs": [],
   "source": [
    "def normalize_trajectory_caller(args):\n",
    "    idx, agent_traj = args\n",
    "    if idx % 1000 == 0:\n",
    "        print(idx)\n",
    "    norm_traj = normalize_trajectory(agent_traj)\n",
    "    return idx, norm_traj"
   ]
  },
  {
   "cell_type": "code",
   "execution_count": 8,
   "metadata": {},
   "outputs": [
    {
     "data": {
      "text/plain": [
       "\"\\nnum_workers = mp.cpu_count()//2\\npool = mp.Pool(num_workers)\\nargs = [(idx, traj.agent_traj) for idx, traj in enumerate(afl)]\\nres = pool.map(normalize_trajectory_caller, args)\\nlookup = sorted(res,key=lambda x:x[0])\\nnp.save('lookup.npy', lookup)\\n\""
      ]
     },
     "execution_count": 8,
     "metadata": {},
     "output_type": "execute_result"
    }
   ],
   "source": [
    "'''\n",
    "num_workers = mp.cpu_count()//2\n",
    "pool = mp.Pool(num_workers)\n",
    "args = [(idx, traj.agent_traj) for idx, traj in enumerate(afl)]\n",
    "res = pool.map(normalize_trajectory_caller, args)\n",
    "lookup = sorted(res,key=lambda x:x[0])\n",
    "np.save('lookup.npy', lookup)\n",
    "'''"
   ]
  },
  {
   "cell_type": "code",
   "execution_count": 9,
   "metadata": {},
   "outputs": [],
   "source": [
    "def get_top_k(target_traj, lookup, k=6):\n",
    "    norm_target_traj = normalize_trajectory(target_traj)\n",
    "    distances = np.subtract(lookup[:,:20], norm_target_traj[:20])\n",
    "    distances = np.linalg.norm(distances, axis=(1,2))\n",
    "    top_k_idxs = np.argsort(distances)\n",
    "    return distances, top_k_idxs[:k]"
   ]
  },
  {
   "cell_type": "code",
   "execution_count": 202,
   "metadata": {},
   "outputs": [],
   "source": [
    "def correct_prediction(predict_traj, agent_traj):\n",
    "    agent_dx = agent_traj[19,0] - agent_traj[18,0]\n",
    "    agent_dy = agent_traj[19,1] - agent_traj[18,1]\n",
    "    target_x = agent_traj[19,0] + agent_dx\n",
    "    target_y = agent_traj[19,1] + agent_dy\n",
    "    shift_x = target_x - predict_traj[20,0]\n",
    "    shift_y = target_y - predict_traj[20,1]\n",
    "    predict_traj[:,0] += shift_x\n",
    "    predict_traj[:,1] += shift_y\n",
    "    return predict_traj"
   ]
  },
  {
   "cell_type": "code",
   "execution_count": 207,
   "metadata": {},
   "outputs": [],
   "source": [
    "def get_multiple_forecasts(data, lookup, k=6, plot=False):\n",
    "    predictions = list()\n",
    "    agent_traj = data.agent_traj\n",
    "    norm_agent_traj = agent_traj - agent_traj[0]\n",
    "    print(f'norm_agent_traj: {norm_agent_traj[-19]}')\n",
    "    distances, top_k_idxs = get_top_k(agent_traj, lookup, k=6)\n",
    "    if plot:\n",
    "        plt.figure()\n",
    "        #ax = plt.gca().set_aspect('equal')\n",
    "        # plot starting point\n",
    "        plt.plot(agent_traj[0,0], agent_traj[0,1], '-o', c='r')\n",
    "        plt.plot(agent_traj[:20,0], agent_traj[:20,1],c='r')\n",
    "    for k in top_k_idxs:\n",
    "        predict_traj = lookup[k]\n",
    "        \n",
    "        # using cosine dot product relation to determine angular difference between trajectories\n",
    "        arg = np.dot(predict_traj[19], norm_agent_traj[19])/ np.linalg.norm(predict_traj[19])/np.linalg.norm(norm_agent_traj[19])\n",
    "        theta = np.arccos(np.clip(arg, -1.0, 1.0))\n",
    "        if norm_agent_traj[19,1] < 0:\n",
    "            theta *= -1\n",
    "        rot_mat = ((np.cos(theta), -np.sin(theta)), (np.sin(theta), np.cos(theta)))\n",
    "        t_predict_traj = np.matmul(rot_mat, predict_traj.T).T + agent_traj[0]\n",
    "        if np.linalg.norm(t_predict_traj[20]-agent_traj[19]) > 0.5:\n",
    "            t_predict_traj = correct_prediction(t_predict_traj, agent_traj)\n",
    "        t_predict_traj[:20] = agent_traj[:20]\n",
    "        predictions.append(t_predict_traj)\n",
    "        if plot:\n",
    "            # plot predicted trajectories\n",
    "            plt.plot(t_predict_traj[:20,0], t_predict_traj[:20,1],c='r')\n",
    "            plt.plot(t_predict_traj[19:,0], t_predict_traj[19:,1],c=np.random.random(3,))\n",
    "#     plt.figure()\n",
    "#     plt.plot(norm_agent_traj[:,0], norm_agent_traj[:,1],c='r')\n",
    "#     for k in top_k_idxs:\n",
    "#         plt.plot(lookup[k,:,0], lookup[k,:,1], c=np.random.random(3,))\n",
    "    return np.asarray(predictions)\n",
    "    "
   ]
  },
  {
   "cell_type": "code",
   "execution_count": 11,
   "metadata": {},
   "outputs": [],
   "source": [
    "def get_multiple_forecasts_caller(args):\n",
    "    idx, data, lookup = args\n",
    "    clear_output()\n",
    "    print(f'{idx}/78143')\n",
    "    return idx, get_multiple_forecasts(data, lookup)"
   ]
  },
  {
   "cell_type": "code",
   "execution_count": 179,
   "metadata": {},
   "outputs": [],
   "source": [
    "root_dir = '/home/aaron/workspace/argoverse/data/forecasting_val_v1.1/val/data'\n",
    "#root_dir = '/home/aaron/workspace/argoverse/data/forecasting_sample_v1.1/forecasting_sample/data'\n",
    "afl = ArgoverseForecastingLoader(root_dir)\n",
    "lookup = np.load('lookup.npy', allow_pickle=True)"
   ]
  },
  {
   "cell_type": "code",
   "execution_count": 216,
   "metadata": {},
   "outputs": [
    {
     "name": "stdout",
     "output_type": "stream",
     "text": [
      "norm_agent_traj: [  0.46666952 -54.85167426]\n"
     ]
    },
    {
     "data": {
      "image/png": "[encoded data removed]",
      "text/plain": [
       "<Figure size 432x288 with 1 Axes>"
      ]
     },
     "metadata": {
      "needs_background": "light"
     },
     "output_type": "display_data"
    }
   ],
   "source": [
    "idx = np.random.randint(len(afl))\n",
    "predictions = get_multiple_forecasts(afl[idx], lookup, plot=True)"
   ]
  },
  {
   "cell_type": "code",
   "execution_count": 120,
   "metadata": {},
   "outputs": [
    {
     "name": "stdout",
     "output_type": "stream",
     "text": [
      "34541\n"
     ]
    },
    {
     "data": {
      "image/png": "[encoded data removed]",
      "text/plain": [
       "<Figure size 432x288 with 1 Axes>"
      ]
     },
     "metadata": {
      "needs_background": "light"
     },
     "output_type": "display_data"
    }
   ],
   "source": [
    "print(idx)\n",
    "#viz_sequence(afl[idx].seq_df)\n",
    "predictions = get_multiple_forecasts(afl[idx], lookup, plot=True)"
   ]
  },
  {
   "cell_type": "code",
   "execution_count": null,
   "metadata": {},
   "outputs": [
    {
     "name": "stdout",
     "output_type": "stream",
     "text": [
      "47643/78143"
     ]
    }
   ],
   "source": [
    "output_all = dict()\n",
    "counter = 1\n",
    "for data in afl:\n",
    "    print('\\r'+str(counter)+'/'+str(len(afl)),end=\"\")\n",
    "    predictions = get_multiple_forecasts(data, lookup)\n",
    "    seq_id = int(data.current_seq.name[:-4])\n",
    "    output_all[seq_id] = predictions[:,20:,:]\n",
    "    counter += 1\n",
    "np.save('knn_baseline_output_all.npy', output_all)"
   ]
  },
  {
   "cell_type": "code",
   "execution_count": null,
   "metadata": {},
   "outputs": [],
   "source": [
    "'''\n",
    "num_workers = mp.cpu_count()//2\n",
    "pool = mp.Pool(num_workers)\n",
    "args = [(idx, data, lookup) for idx, data in enumerate(afl)]\n",
    "res = pool.map(get_multiple_forecasts_caller, args)\n",
    "output_all = sorted(res,key=lambda x:x[0])\n",
    "np.save('knn_baseline_output_all.npy', output_all)\n",
    "'''"
   ]
  },
  {
   "cell_type": "code",
   "execution_count": null,
   "metadata": {},
   "outputs": [],
   "source": [
    "'''\n",
    "output_all_list = np.load('knn_baseline_output_all.npy', allow_pickle=True)\n",
    "output_all = dict()\n",
    "for idx, data in enumerate(afl):\n",
    "    seq_id = int(data.current_seq.name[:-4])\n",
    "    output_all[seq_id] = output_all_list[idx,:,20:,:]\n",
    "seq_id = int(afl[0].current_seq.name[:-4])\n",
    "print(output_all[seq_id])\n",
    "'''"
   ]
  },
  {
   "cell_type": "code",
   "execution_count": null,
   "metadata": {},
   "outputs": [],
   "source": [
    "from argoverse.evaluation.competition_util import generate_forecasting_h5\n",
    "\n",
    "output_path = 'competition_files/'\n",
    "\n",
    "generate_forecasting_h5(output_all, output_path, filename='knn_baseline') #this might take awhile"
   ]
  }
 ],
 "metadata": {
  "kernelspec": {
   "display_name": "Python 3",
   "language": "python",
   "name": "python3"
  },
  "language_info": {
   "codemirror_mode": {
    "name": "ipython",
    "version": 3
   },
   "file_extension": ".py",
   "mimetype": "text/x-python",
   "name": "python",
   "nbconvert_exporter": "python",
   "pygments_lexer": "ipython3",
   "version": "3.6.9"
  }
 },
 "nbformat": 4,
 "nbformat_minor": 4
}
