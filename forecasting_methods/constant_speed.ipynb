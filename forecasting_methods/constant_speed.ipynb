{
 "cells": [
  {
   "cell_type": "markdown",
   "metadata": {},
   "source": [
    "# Constant Speed + Centerline"
   ]
  },
  {
   "cell_type": "markdown",
   "metadata": {},
   "source": [
    "Algorithm: compute average speed over the past $n$ timesteps and follow a centerline at the computed speed.\n",
    "\n",
    "Questions: how do you compute a trajectory from the end of the 2 second prior for the next 3 seconds that closely follows the chosen centerline(s)\n"
   ]
  },
  {
   "cell_type": "code",
   "execution_count": 15,
   "metadata": {},
   "outputs": [],
   "source": [
    "%matplotlib inline\n",
    "import matplotlib.pyplot as plt\n",
    "import numpy as np"
   ]
  },
  {
   "cell_type": "markdown",
   "metadata": {},
   "source": [
    "## A simple baseline"
   ]
  },
  {
   "cell_type": "code",
   "execution_count": 28,
   "metadata": {},
   "outputs": [],
   "source": [
    "from argoverse.data_loading.argoverse_forecasting_loader import ArgoverseForecastingLoader\n",
    "from argoverse.map_representation.map_api import ArgoverseMap\n",
    "from argoverse.visualization.visualize_sequences import viz_sequence"
   ]
  },
  {
   "cell_type": "code",
   "execution_count": 13,
   "metadata": {},
   "outputs": [
    {
     "name": "stdout",
     "output_type": "stream",
     "text": [
      "Total number of sequences: 78143\n"
     ]
    }
   ],
   "source": [
    "##set root_dir to the correct path to your dataset folder\n",
    "root_dir = '/home/aaron/workspace/argoverse/data/forecasting_test_v1.1/test_obs/data'\n",
    "\n",
    "afl = ArgoverseForecastingLoader(root_dir)\n",
    "atl = ArgoverseTrackingLoader(root_dir)\n",
    "avm = ArgoverseMap()\n",
    "\n",
    "print('Total number of sequences:',len(afl))"
   ]
  },
  {
   "cell_type": "markdown",
   "metadata": {},
   "source": [
    "Let's say we have our (very very naive) prediction function;"
   ]
  },
  {
   "cell_type": "markdown",
   "metadata": {},
   "source": [
    "Let's try that on our argoverse forecasting test set"
   ]
  },
  {
   "cell_type": "code",
   "execution_count": 49,
   "metadata": {},
   "outputs": [],
   "source": [
    "trajectory = afl[10]"
   ]
  },
  {
   "cell_type": "code",
   "execution_count": 50,
   "metadata": {},
   "outputs": [
    {
     "data": {
      "image/png": "[encoded data removed]",
      "text/plain": [
       "<Figure size 576x504 with 1 Axes>"
      ]
     },
     "metadata": {
      "needs_background": "light"
     },
     "output_type": "display_data"
    }
   ],
   "source": [
    "viz_sequence(trajectory.seq_df, show=True)"
   ]
  },
  {
   "cell_type": "code",
   "execution_count": 16,
   "metadata": {},
   "outputs": [],
   "source": [
    "def prediction(trajectory,avm,city_name,num_points=30,avg_points=1):\n",
    "    #a simple prediction function that predict straight line with constant velocity\n",
    "    velocity_x_mps = []\n",
    "    velocity_y_mps = []\n",
    "    for i in range(1,avg_points+1,1):\n",
    "        velocity_x_mps.append(trajectory[-i,0] - trajectory[-(1+i),0])\n",
    "        velocity_y_mps.append(trajectory[-i,1] - trajectory[-(1+i),1])\n",
    "        \n",
    "    velocity_x_mps = np.mean(velocity_x_mps)\n",
    "    velocity_y_mps = np.mean(velocity_y_mps)\n",
    "    candidate_centerlines = avm.get_candidate_centerlines_for_traj(trajectory, city_name)\n",
    "    print(candidate_centerlines)\n",
    "    current_traj = trajectory[-1]\n",
    "    results = np.zeros((len(trajectory)+num_points,2))\n",
    "    \n",
    "    results[0:len(trajectory)] = trajectory\n",
    "    \n",
    "    for i in range(num_points):\n",
    "        results[len(trajectory)+i] = np.array([current_traj[0]+velocity_x_mps,current_traj[1]+velocity_y_mps])\n",
    "        current_traj = results[len(trajectory)+i]\n",
    "    return results"
   ]
  },
  {
   "cell_type": "code",
   "execution_count": 27,
   "metadata": {},
   "outputs": [],
   "source": [
    "velocity_x_mps = []\n",
    "velocity_y_mps = []\n",
    "for i in range(1,avg_points+1,1):\n",
    "    velocity_x_mps.append(trajectory[-i,0] - trajectory[-(1+i),0])\n",
    "    velocity_y_mps.append(trajectory[-i,1] - trajectory[-(1+i),1])\n",
    "velocity_x_mps = np.mean(velocity_x_mps)\n",
    "velocity_y_mps = np.mean(velocity_y_mps)"
   ]
  },
  {
   "cell_type": "code",
   "execution_count": 27,
   "metadata": {},
   "outputs": [
    {
     "name": "stdout",
     "output_type": "stream",
     "text": [
      "[array([[-335.30463525, 3239.60136545],\n",
      "       [-334.71523133, 3239.61761377],\n",
      "       [-334.12582741, 3239.6338621 ],\n",
      "       [-333.5364235 , 3239.65011043],\n",
      "       [-332.94701958, 3239.66635876],\n",
      "       [-332.35761566, 3239.68260709],\n",
      "       [-331.76821175, 3239.69885542],\n",
      "       [-331.17880783, 3239.71510374],\n",
      "       [-330.58940392, 3239.73135207],\n",
      "       [-330.        , 3239.7476004 ],\n",
      "       [-330.        , 3239.7476004 ],\n",
      "       [-329.53230841, 3239.76613371],\n",
      "       [-329.06461681, 3239.78466702],\n",
      "       [-328.59692522, 3239.80320033],\n",
      "       [-328.12923362, 3239.82173365],\n",
      "       [-327.66154203, 3239.84026696],\n",
      "       [-327.19385043, 3239.85880027],\n",
      "       [-326.72615884, 3239.87733358],\n",
      "       [-326.25846724, 3239.89586689],\n",
      "       [-325.79077565, 3239.9144002 ],\n",
      "       [-325.79077565, 3239.9144002 ],\n",
      "       [-324.92339588, 3239.9492601 ],\n",
      "       [-324.05601612, 3239.98411999],\n",
      "       [-323.18863635, 3240.01897989],\n",
      "       [-322.32125659, 3240.05383978],\n",
      "       [-321.45387683, 3240.08869967],\n",
      "       [-320.58649706, 3240.12355957],\n",
      "       [-319.7191173 , 3240.15841946],\n",
      "       [-318.85173753, 3240.19327936],\n",
      "       [-317.98435777, 3240.22813925],\n",
      "       [-317.98435777, 3240.22813925],\n",
      "       [-317.69319275, 3240.23976883],\n",
      "       [-317.40202772, 3240.25139841],\n",
      "       [-317.11086269, 3240.263028  ],\n",
      "       [-316.81969767, 3240.27465758],\n",
      "       [-316.52853264, 3240.28628716],\n",
      "       [-316.23736762, 3240.29791674],\n",
      "       [-315.94620259, 3240.30954632],\n",
      "       [-315.65503757, 3240.3211759 ],\n",
      "       [-315.36387254, 3240.33280548],\n",
      "       [-315.36387254, 3240.33280548],\n",
      "       [-314.2349382 , 3240.37372879],\n",
      "       [-313.10600386, 3240.4146521 ],\n",
      "       [-311.97706952, 3240.45557542],\n",
      "       [-310.84813517, 3240.49649873],\n",
      "       [-309.71920083, 3240.53742204],\n",
      "       [-308.59026649, 3240.57834535],\n",
      "       [-307.46133215, 3240.61926866],\n",
      "       [-306.33239781, 3240.66019197],\n",
      "       [-305.20346347, 3240.70111528],\n",
      "       [-305.20346347, 3240.70111528],\n",
      "       [-304.1098103 , 3240.74138735],\n",
      "       [-303.01615714, 3240.78165941],\n",
      "       [-301.92250398, 3240.82193148],\n",
      "       [-300.82885081, 3240.86220354],\n",
      "       [-299.73519765, 3240.90247561],\n",
      "       [-298.64154448, 3240.94274767],\n",
      "       [-297.54789132, 3240.98301974],\n",
      "       [-296.45423815, 3241.02329181],\n",
      "       [-295.36058499, 3241.06356387],\n",
      "       [-295.36058499, 3241.06356387],\n",
      "       [-293.75305897, 3240.86121774],\n",
      "       [-292.25175591, 3240.27052258],\n",
      "       [-290.9009251 , 3239.37977031],\n",
      "       [-289.67673274, 3238.3112623 ],\n",
      "       [-288.58526846, 3237.11385337],\n",
      "       [-287.63323055, 3235.79847176],\n",
      "       [-286.86114543, 3234.36989425],\n",
      "       [-286.28445639, 3232.85279726],\n",
      "       [-285.91508687, 3231.27739609]]), array([[-335.30463525, 3239.60136545],\n",
      "       [-334.71523133, 3239.61761377],\n",
      "       [-334.12582741, 3239.6338621 ],\n",
      "       [-333.5364235 , 3239.65011043],\n",
      "       [-332.94701958, 3239.66635876],\n",
      "       [-332.35761566, 3239.68260709],\n",
      "       [-331.76821175, 3239.69885542],\n",
      "       [-331.17880783, 3239.71510374],\n",
      "       [-330.58940392, 3239.73135207],\n",
      "       [-330.        , 3239.7476004 ],\n",
      "       [-330.        , 3239.7476004 ],\n",
      "       [-329.53230841, 3239.76613371],\n",
      "       [-329.06461681, 3239.78466702],\n",
      "       [-328.59692522, 3239.80320033],\n",
      "       [-328.12923362, 3239.82173365],\n",
      "       [-327.66154203, 3239.84026696],\n",
      "       [-327.19385043, 3239.85880027],\n",
      "       [-326.72615884, 3239.87733358],\n",
      "       [-326.25846724, 3239.89586689],\n",
      "       [-325.79077565, 3239.9144002 ],\n",
      "       [-325.79077565, 3239.9144002 ],\n",
      "       [-324.92339588, 3239.9492601 ],\n",
      "       [-324.05601612, 3239.98411999],\n",
      "       [-323.18863635, 3240.01897989],\n",
      "       [-322.32125659, 3240.05383978],\n",
      "       [-321.45387683, 3240.08869967],\n",
      "       [-320.58649706, 3240.12355957],\n",
      "       [-319.7191173 , 3240.15841946],\n",
      "       [-318.85173753, 3240.19327936],\n",
      "       [-317.98435777, 3240.22813925],\n",
      "       [-317.98435777, 3240.22813925],\n",
      "       [-317.69319275, 3240.23976883],\n",
      "       [-317.40202772, 3240.25139841],\n",
      "       [-317.11086269, 3240.263028  ],\n",
      "       [-316.81969767, 3240.27465758],\n",
      "       [-316.52853264, 3240.28628716],\n",
      "       [-316.23736762, 3240.29791674],\n",
      "       [-315.94620259, 3240.30954632],\n",
      "       [-315.65503757, 3240.3211759 ],\n",
      "       [-315.36387254, 3240.33280548],\n",
      "       [-315.36387254, 3240.33280548],\n",
      "       [-314.2349382 , 3240.37372879],\n",
      "       [-313.10600386, 3240.4146521 ],\n",
      "       [-311.97706952, 3240.45557542],\n",
      "       [-310.84813517, 3240.49649873],\n",
      "       [-309.71920083, 3240.53742204],\n",
      "       [-308.59026649, 3240.57834535],\n",
      "       [-307.46133215, 3240.61926866],\n",
      "       [-306.33239781, 3240.66019197],\n",
      "       [-305.20346347, 3240.70111528],\n",
      "       [-305.20346347, 3240.70111528],\n",
      "       [-304.1098103 , 3240.74138735],\n",
      "       [-303.01615714, 3240.78165941],\n",
      "       [-301.92250398, 3240.82193148],\n",
      "       [-300.82885081, 3240.86220354],\n",
      "       [-299.73519765, 3240.90247561],\n",
      "       [-298.64154448, 3240.94274767],\n",
      "       [-297.54789132, 3240.98301974],\n",
      "       [-296.45423815, 3241.02329181],\n",
      "       [-295.36058499, 3241.06356387],\n",
      "       [-295.36058499, 3241.06356387],\n",
      "       [-292.64309997, 3241.17326072],\n",
      "       [-289.92561495, 3241.28295758],\n",
      "       [-287.20812993, 3241.39265443],\n",
      "       [-284.49064491, 3241.50235128],\n",
      "       [-281.77315989, 3241.61204813],\n",
      "       [-279.05567487, 3241.72174499],\n",
      "       [-276.33818985, 3241.83144184],\n",
      "       [-273.62070482, 3241.94113869],\n",
      "       [-270.9032198 , 3242.05083554]]), array([[-358.69184224, 3241.9214911 ],\n",
      "       [-357.60308504, 3241.9680976 ],\n",
      "       [-356.51432784, 3242.01470409],\n",
      "       [-355.42557064, 3242.06131059],\n",
      "       [-354.33681344, 3242.10791708],\n",
      "       [-353.24805624, 3242.15452358],\n",
      "       [-352.15929904, 3242.20113008],\n",
      "       [-351.07054184, 3242.24773657],\n",
      "       [-349.98178464, 3242.29434307],\n",
      "       [-348.89302744, 3242.34094957],\n",
      "       [-348.89302744, 3242.34094957],\n",
      "       [-348.12742617, 3242.37275645],\n",
      "       [-347.36182491, 3242.40456333],\n",
      "       [-346.59622364, 3242.43637022],\n",
      "       [-345.83062237, 3242.4681771 ],\n",
      "       [-345.06502111, 3242.49998398],\n",
      "       [-344.29941984, 3242.53179087],\n",
      "       [-343.53381857, 3242.56359775],\n",
      "       [-342.76821731, 3242.59540463],\n",
      "       [-342.00261604, 3242.62721152],\n",
      "       [-342.00261604, 3242.62721152],\n",
      "       [-341.28111061, 3242.65486766],\n",
      "       [-340.55960518, 3242.68252381],\n",
      "       [-339.83809975, 3242.71017995],\n",
      "       [-339.11659432, 3242.7378361 ],\n",
      "       [-338.39508889, 3242.76549224],\n",
      "       [-337.67358346, 3242.79314838],\n",
      "       [-336.95207803, 3242.82080453],\n",
      "       [-336.2305726 , 3242.84846067],\n",
      "       [-335.50906717, 3242.87611682],\n",
      "       [-335.50906717, 3242.87611682],\n",
      "       [-334.8969486 , 3242.8961352 ],\n",
      "       [-334.28483002, 3242.91615358],\n",
      "       [-333.67271145, 3242.93617196],\n",
      "       [-333.06059287, 3242.95619035],\n",
      "       [-332.4484743 , 3242.97620873],\n",
      "       [-331.83635572, 3242.99622711],\n",
      "       [-331.22423715, 3243.01624549],\n",
      "       [-330.61211857, 3243.03626387],\n",
      "       [-330.        , 3243.05628226],\n",
      "       [-330.        , 3243.05628226],\n",
      "       [-329.54597234, 3243.07376382],\n",
      "       [-329.09194468, 3243.09124538],\n",
      "       [-328.63791702, 3243.10872695],\n",
      "       [-328.18388936, 3243.12620851],\n",
      "       [-327.7298617 , 3243.14369007],\n",
      "       [-327.27583404, 3243.16117164],\n",
      "       [-326.82180638, 3243.1786532 ],\n",
      "       [-326.36777872, 3243.19613476],\n",
      "       [-325.91375106, 3243.21361633],\n",
      "       [-325.91375106, 3243.21361633],\n",
      "       [-325.04608789, 3243.24270096],\n",
      "       [-324.17842472, 3243.2717856 ],\n",
      "       [-323.31076154, 3243.30087024],\n",
      "       [-322.44309837, 3243.32995488],\n",
      "       [-321.5754352 , 3243.35903952],\n",
      "       [-320.70777202, 3243.38812416],\n",
      "       [-319.84010885, 3243.4172088 ],\n",
      "       [-318.97244568, 3243.44629344],\n",
      "       [-318.10478251, 3243.47537807],\n",
      "       [-318.10478251, 3243.47537807],\n",
      "       [-317.81057826, 3243.48513046],\n",
      "       [-317.51637402, 3243.49488285],\n",
      "       [-317.22216977, 3243.50463524],\n",
      "       [-316.92796553, 3243.51438763],\n",
      "       [-316.63376128, 3243.52414002],\n",
      "       [-316.33955704, 3243.53389241],\n",
      "       [-316.0453528 , 3243.5436448 ],\n",
      "       [-315.75114855, 3243.55339719],\n",
      "       [-315.45694431, 3243.56314958],\n",
      "       [-315.45694431, 3243.56314958],\n",
      "       [-314.33204195, 3243.60965969],\n",
      "       [-313.2071396 , 3243.6561698 ],\n",
      "       [-312.08223724, 3243.70267991],\n",
      "       [-310.95733488, 3243.74919001],\n",
      "       [-309.83243253, 3243.79570012],\n",
      "       [-308.70753017, 3243.84221023],\n",
      "       [-307.58262782, 3243.88872033],\n",
      "       [-306.45772546, 3243.93523044],\n",
      "       [-305.33282311, 3243.98174055],\n",
      "       [-305.33282311, 3243.98174055],\n",
      "       [-304.23902777, 3244.02761835],\n",
      "       [-303.14523244, 3244.07349615],\n",
      "       [-302.05143711, 3244.11937395],\n",
      "       [-300.95764178, 3244.16525175],\n",
      "       [-299.86384645, 3244.21112955],\n",
      "       [-298.77005112, 3244.25700735],\n",
      "       [-297.67625579, 3244.30288515],\n",
      "       [-296.58246046, 3244.34876295],\n",
      "       [-295.48866513, 3244.39464075],\n",
      "       [-295.48866513, 3244.39464075],\n",
      "       [-292.49215659, 3244.51545424],\n",
      "       [-289.55450244, 3245.05142617],\n",
      "       [-286.803343  , 3246.2208944 ],\n",
      "       [-284.22174489, 3247.73872267],\n",
      "       [-282.09074319, 3249.8047392 ],\n",
      "       [-280.64183642, 3252.40758067],\n",
      "       [-280.11840915, 3255.35027825],\n",
      "       [-279.99135014, 3258.34528415],\n",
      "       [-279.98183999, 3261.3433549 ]]), array([[-358.69184224, 3241.9214911 ],\n",
      "       [-357.60308504, 3241.9680976 ],\n",
      "       [-356.51432784, 3242.01470409],\n",
      "       [-355.42557064, 3242.06131059],\n",
      "       [-354.33681344, 3242.10791708],\n",
      "       [-353.24805624, 3242.15452358],\n",
      "       [-352.15929904, 3242.20113008],\n",
      "       [-351.07054184, 3242.24773657],\n",
      "       [-349.98178464, 3242.29434307],\n",
      "       [-348.89302744, 3242.34094957],\n",
      "       [-348.89302744, 3242.34094957],\n",
      "       [-348.12742617, 3242.37275645],\n",
      "       [-347.36182491, 3242.40456333],\n",
      "       [-346.59622364, 3242.43637022],\n",
      "       [-345.83062237, 3242.4681771 ],\n",
      "       [-345.06502111, 3242.49998398],\n",
      "       [-344.29941984, 3242.53179087],\n",
      "       [-343.53381857, 3242.56359775],\n",
      "       [-342.76821731, 3242.59540463],\n",
      "       [-342.00261604, 3242.62721152],\n",
      "       [-342.00261604, 3242.62721152],\n",
      "       [-341.28111061, 3242.65486766],\n",
      "       [-340.55960518, 3242.68252381],\n",
      "       [-339.83809975, 3242.71017995],\n",
      "       [-339.11659432, 3242.7378361 ],\n",
      "       [-338.39508889, 3242.76549224],\n",
      "       [-337.67358346, 3242.79314838],\n",
      "       [-336.95207803, 3242.82080453],\n",
      "       [-336.2305726 , 3242.84846067],\n",
      "       [-335.50906717, 3242.87611682],\n",
      "       [-335.50906717, 3242.87611682],\n",
      "       [-334.8969486 , 3242.8961352 ],\n",
      "       [-334.28483002, 3242.91615358],\n",
      "       [-333.67271145, 3242.93617196],\n",
      "       [-333.06059287, 3242.95619035],\n",
      "       [-332.4484743 , 3242.97620873],\n",
      "       [-331.83635572, 3242.99622711],\n",
      "       [-331.22423715, 3243.01624549],\n",
      "       [-330.61211857, 3243.03626387],\n",
      "       [-330.        , 3243.05628226],\n",
      "       [-330.        , 3243.05628226],\n",
      "       [-329.54597234, 3243.07376382],\n",
      "       [-329.09194468, 3243.09124538],\n",
      "       [-328.63791702, 3243.10872695],\n",
      "       [-328.18388936, 3243.12620851],\n",
      "       [-327.7298617 , 3243.14369007],\n",
      "       [-327.27583404, 3243.16117164],\n",
      "       [-326.82180638, 3243.1786532 ],\n",
      "       [-326.36777872, 3243.19613476],\n",
      "       [-325.91375106, 3243.21361633],\n",
      "       [-325.91375106, 3243.21361633],\n",
      "       [-325.04608789, 3243.24270096],\n",
      "       [-324.17842472, 3243.2717856 ],\n",
      "       [-323.31076154, 3243.30087024],\n",
      "       [-322.44309837, 3243.32995488],\n",
      "       [-321.5754352 , 3243.35903952],\n",
      "       [-320.70777202, 3243.38812416],\n",
      "       [-319.84010885, 3243.4172088 ],\n",
      "       [-318.97244568, 3243.44629344],\n",
      "       [-318.10478251, 3243.47537807],\n",
      "       [-318.10478251, 3243.47537807],\n",
      "       [-317.81057826, 3243.48513046],\n",
      "       [-317.51637402, 3243.49488285],\n",
      "       [-317.22216977, 3243.50463524],\n",
      "       [-316.92796553, 3243.51438763],\n",
      "       [-316.63376128, 3243.52414002],\n",
      "       [-316.33955704, 3243.53389241],\n",
      "       [-316.0453528 , 3243.5436448 ],\n",
      "       [-315.75114855, 3243.55339719],\n",
      "       [-315.45694431, 3243.56314958],\n",
      "       [-315.45694431, 3243.56314958],\n",
      "       [-314.33204195, 3243.60965969],\n",
      "       [-313.2071396 , 3243.6561698 ],\n",
      "       [-312.08223724, 3243.70267991],\n",
      "       [-310.95733488, 3243.74919001],\n",
      "       [-309.83243253, 3243.79570012],\n",
      "       [-308.70753017, 3243.84221023],\n",
      "       [-307.58262782, 3243.88872033],\n",
      "       [-306.45772546, 3243.93523044],\n",
      "       [-305.33282311, 3243.98174055],\n",
      "       [-305.33282311, 3243.98174055],\n",
      "       [-304.23902777, 3244.02761835],\n",
      "       [-303.14523244, 3244.07349615],\n",
      "       [-302.05143711, 3244.11937395],\n",
      "       [-300.95764178, 3244.16525175],\n",
      "       [-299.86384645, 3244.21112955],\n",
      "       [-298.77005112, 3244.25700735],\n",
      "       [-297.67625579, 3244.30288515],\n",
      "       [-296.58246046, 3244.34876295],\n",
      "       [-295.48866513, 3244.39464075],\n",
      "       [-295.48866513, 3244.39464075],\n",
      "       [-292.77444773, 3244.47087465],\n",
      "       [-290.06023033, 3244.54710854],\n",
      "       [-287.34601293, 3244.62334243],\n",
      "       [-284.63179554, 3244.69957633],\n",
      "       [-281.91757814, 3244.77581022],\n",
      "       [-279.20336074, 3244.85204412],\n",
      "       [-276.48914335, 3244.92827801],\n",
      "       [-273.77492595, 3245.0045119 ],\n",
      "       [-271.06070855, 3245.0807458 ]])]\n"
     ]
    }
   ],
   "source": [
    "candidate_centerlines = avm.get_candidate_centerlines_for_traj(trajectory, city_name)\n",
    "print(candidate_centerlines)\n",
    "current_traj = trajectory[-1]\n",
    "results = np.zeros((len(trajectory)+num_points,2))\n",
    "\n",
    "results[0:len(trajectory)] = trajectory\n",
    "\n",
    "for i in range(num_points):\n",
    "    results[len(trajectory)+i] = np.array([current_traj[0]+velocity_x_mps,current_traj[1]+velocity_y_mps])\n",
    "    current_traj = results[len(trajectory)+i]\n",
    "return results"
   ]
  },
  {
   "cell_type": "markdown",
   "metadata": {},
   "source": [
    "Here is an example of our prediction, initial trajectory in blue and the predicted trajectory in red"
   ]
  },
  {
   "cell_type": "code",
   "execution_count": 13,
   "metadata": {},
   "outputs": [
    {
     "data": {
      "image/png": "[encoded data removed]",
      "text/plain": [
       "<Figure size 432x288 with 1 Axes>"
      ]
     },
     "metadata": {
      "needs_background": "light"
     },
     "output_type": "display_data"
    }
   ],
   "source": [
    "ax = plt.gca()\n",
    "plt.plot(predict_traj[0,0],predict_traj[0,1],'-o',c='r') #starting point here\n",
    "plt.plot(predict_traj[:21,0],predict_traj[:21,1],'-',c='b')\n",
    "plt.plot(predict_traj[20:,0],predict_traj[20:,1],'-',c='r')\n",
    "\n",
    "plt.xlabel('map_x_coord (m)')\n",
    "plt.ylabel('map_y_coord (m)')\n",
    "ax.set_aspect('equal')\n",
    "plt.show()"
   ]
  },
  {
   "cell_type": "markdown",
   "metadata": {},
   "source": [
    "Due to the multimodal nature of the problem, our challenge allows for (expects) multiple forecasts for each object.\n",
    "\n",
    "For the purposes of this tutorial we will use different averaging windows to create multiple entries per object."
   ]
  },
  {
   "cell_type": "code",
   "execution_count": 14,
   "metadata": {},
   "outputs": [],
   "source": [
    "def get_multiple_forecasts(afl):\n",
    "    predict_traj = []\n",
    "    for i in range(9,3,-1):\n",
    "        predict_traj.append(prediction(afl.agent_traj,avg_points=(i)))\n",
    "    return np.array(predict_traj)"
   ]
  },
  {
   "cell_type": "code",
   "execution_count": 15,
   "metadata": {},
   "outputs": [],
   "source": [
    "predict_traj = get_multiple_forecasts(afl)"
   ]
  },
  {
   "cell_type": "code",
   "execution_count": 16,
   "metadata": {},
   "outputs": [
    {
     "data": {
      "image/png": "[encoded data removed]",
      "text/plain": [
       "<Figure size 432x288 with 1 Axes>"
      ]
     },
     "metadata": {
      "needs_background": "light"
     },
     "output_type": "display_data"
    }
   ],
   "source": [
    "ax = plt.gca()\n",
    "\n",
    "plt.plot(predict_traj[0,0,0],predict_traj[0,0,1],'-o',c='r') #starting point here\n",
    "plt.plot(predict_traj[0,:21,0],predict_traj[0,:21,1],'-',c='b')\n",
    "\n",
    "for i in range(len(predict_traj)):\n",
    "    plt.plot(predict_traj[i,20:,0],predict_traj[i,20:,1],'-',c=np.random.rand(3,))\n",
    "plt.xlabel('map_x_coord (m)')\n",
    "plt.ylabel('map_y_coord (m)')\n",
    "ax.set_aspect('equal')\n",
    "plt.show()\n"
   ]
  },
  {
   "cell_type": "markdown",
   "metadata": {},
   "source": [
    "## Compute all the results"
   ]
  },
  {
   "cell_type": "code",
   "execution_count": 17,
   "metadata": {
    "collapsed": true,
    "jupyter": {
     "outputs_hidden": true
    }
   },
   "outputs": [
    {
     "name": "stdout",
     "output_type": "stream",
     "text": [
      "3840/78143"
     ]
    },
    {
     "ename": "KeyboardInterrupt",
     "evalue": "",
     "output_type": "error",
     "traceback": [
      "\u001b[0;31m---------------------------------------------------------------------------\u001b[0m",
      "\u001b[0;31mKeyboardInterrupt\u001b[0m                         Traceback (most recent call last)",
      "\u001b[0;32m<ipython-input-17-8c50ed887e15>\u001b[0m in \u001b[0;36m<module>\u001b[0;34m\u001b[0m\n\u001b[1;32m      3\u001b[0m \u001b[0;32mfor\u001b[0m \u001b[0mdata\u001b[0m \u001b[0;32min\u001b[0m \u001b[0mafl\u001b[0m\u001b[0;34m:\u001b[0m\u001b[0;34m\u001b[0m\u001b[0;34m\u001b[0m\u001b[0m\n\u001b[1;32m      4\u001b[0m     \u001b[0mprint\u001b[0m\u001b[0;34m(\u001b[0m\u001b[0;34m'\\r'\u001b[0m\u001b[0;34m+\u001b[0m\u001b[0mstr\u001b[0m\u001b[0;34m(\u001b[0m\u001b[0mcounter\u001b[0m\u001b[0;34m)\u001b[0m\u001b[0;34m+\u001b[0m\u001b[0;34m'/'\u001b[0m\u001b[0;34m+\u001b[0m\u001b[0mstr\u001b[0m\u001b[0;34m(\u001b[0m\u001b[0mlen\u001b[0m\u001b[0;34m(\u001b[0m\u001b[0mafl\u001b[0m\u001b[0;34m)\u001b[0m\u001b[0;34m)\u001b[0m\u001b[0;34m,\u001b[0m\u001b[0mend\u001b[0m\u001b[0;34m=\u001b[0m\u001b[0;34m\"\"\u001b[0m\u001b[0;34m)\u001b[0m\u001b[0;34m\u001b[0m\u001b[0;34m\u001b[0m\u001b[0m\n\u001b[0;32m----> 5\u001b[0;31m     \u001b[0mpredict_traj\u001b[0m \u001b[0;34m=\u001b[0m \u001b[0mget_multiple_forecasts\u001b[0m\u001b[0;34m(\u001b[0m\u001b[0mdata\u001b[0m\u001b[0;34m)\u001b[0m\u001b[0;34m\u001b[0m\u001b[0;34m\u001b[0m\u001b[0m\n\u001b[0m\u001b[1;32m      6\u001b[0m     \u001b[0mseq_id\u001b[0m \u001b[0;34m=\u001b[0m \u001b[0mint\u001b[0m\u001b[0;34m(\u001b[0m\u001b[0mdata\u001b[0m\u001b[0;34m.\u001b[0m\u001b[0mcurrent_seq\u001b[0m\u001b[0;34m.\u001b[0m\u001b[0mname\u001b[0m\u001b[0;34m[\u001b[0m\u001b[0;34m:\u001b[0m\u001b[0;34m-\u001b[0m\u001b[0;36m4\u001b[0m\u001b[0;34m]\u001b[0m\u001b[0;34m)\u001b[0m\u001b[0;34m\u001b[0m\u001b[0;34m\u001b[0m\u001b[0m\n\u001b[1;32m      7\u001b[0m     \u001b[0moutput_all\u001b[0m\u001b[0;34m[\u001b[0m\u001b[0mseq_id\u001b[0m\u001b[0;34m]\u001b[0m \u001b[0;34m=\u001b[0m \u001b[0mpredict_traj\u001b[0m\u001b[0;34m[\u001b[0m\u001b[0;34m:\u001b[0m\u001b[0;34m,\u001b[0m\u001b[0;36m20\u001b[0m\u001b[0;34m:\u001b[0m\u001b[0;34m,\u001b[0m\u001b[0;34m:\u001b[0m\u001b[0;34m]\u001b[0m\u001b[0;34m\u001b[0m\u001b[0;34m\u001b[0m\u001b[0m\n",
      "\u001b[0;32m<ipython-input-14-b52126f9fc9d>\u001b[0m in \u001b[0;36mget_multiple_forecasts\u001b[0;34m(afl)\u001b[0m\n\u001b[1;32m      2\u001b[0m     \u001b[0mpredict_traj\u001b[0m \u001b[0;34m=\u001b[0m \u001b[0;34m[\u001b[0m\u001b[0;34m]\u001b[0m\u001b[0;34m\u001b[0m\u001b[0;34m\u001b[0m\u001b[0m\n\u001b[1;32m      3\u001b[0m     \u001b[0;32mfor\u001b[0m \u001b[0mi\u001b[0m \u001b[0;32min\u001b[0m \u001b[0mrange\u001b[0m\u001b[0;34m(\u001b[0m\u001b[0;36m9\u001b[0m\u001b[0;34m,\u001b[0m\u001b[0;36m3\u001b[0m\u001b[0;34m,\u001b[0m\u001b[0;34m-\u001b[0m\u001b[0;36m1\u001b[0m\u001b[0;34m)\u001b[0m\u001b[0;34m:\u001b[0m\u001b[0;34m\u001b[0m\u001b[0;34m\u001b[0m\u001b[0m\n\u001b[0;32m----> 4\u001b[0;31m         \u001b[0mpredict_traj\u001b[0m\u001b[0;34m.\u001b[0m\u001b[0mappend\u001b[0m\u001b[0;34m(\u001b[0m\u001b[0mprediction\u001b[0m\u001b[0;34m(\u001b[0m\u001b[0mafl\u001b[0m\u001b[0;34m.\u001b[0m\u001b[0magent_traj\u001b[0m\u001b[0;34m,\u001b[0m\u001b[0mavg_points\u001b[0m\u001b[0;34m=\u001b[0m\u001b[0;34m(\u001b[0m\u001b[0mi\u001b[0m\u001b[0;34m)\u001b[0m\u001b[0;34m)\u001b[0m\u001b[0;34m)\u001b[0m\u001b[0;34m\u001b[0m\u001b[0;34m\u001b[0m\u001b[0m\n\u001b[0m\u001b[1;32m      5\u001b[0m     \u001b[0;32mreturn\u001b[0m \u001b[0mnp\u001b[0m\u001b[0;34m.\u001b[0m\u001b[0marray\u001b[0m\u001b[0;34m(\u001b[0m\u001b[0mpredict_traj\u001b[0m\u001b[0;34m)\u001b[0m\u001b[0;34m\u001b[0m\u001b[0;34m\u001b[0m\u001b[0m\n",
      "\u001b[0;32m~/workspace/argoverse/argoverse-api/argoverse/data_loading/argoverse_forecasting_loader.py\u001b[0m in \u001b[0;36magent_traj\u001b[0;34m(self)\u001b[0m\n\u001b[1;32m     99\u001b[0m         \u001b[0magent_x\u001b[0m \u001b[0;34m=\u001b[0m \u001b[0mself\u001b[0m\u001b[0;34m.\u001b[0m\u001b[0mseq_df\u001b[0m\u001b[0;34m[\u001b[0m\u001b[0mself\u001b[0m\u001b[0;34m.\u001b[0m\u001b[0mseq_df\u001b[0m\u001b[0;34m[\u001b[0m\u001b[0;34m\"OBJECT_TYPE\"\u001b[0m\u001b[0;34m]\u001b[0m \u001b[0;34m==\u001b[0m \u001b[0;34m\"AGENT\"\u001b[0m\u001b[0;34m]\u001b[0m\u001b[0;34m[\u001b[0m\u001b[0;34m\"X\"\u001b[0m\u001b[0;34m]\u001b[0m\u001b[0;34m\u001b[0m\u001b[0;34m\u001b[0m\u001b[0m\n\u001b[1;32m    100\u001b[0m         \u001b[0magent_y\u001b[0m \u001b[0;34m=\u001b[0m \u001b[0mself\u001b[0m\u001b[0;34m.\u001b[0m\u001b[0mseq_df\u001b[0m\u001b[0;34m[\u001b[0m\u001b[0mself\u001b[0m\u001b[0;34m.\u001b[0m\u001b[0mseq_df\u001b[0m\u001b[0;34m[\u001b[0m\u001b[0;34m\"OBJECT_TYPE\"\u001b[0m\u001b[0;34m]\u001b[0m \u001b[0;34m==\u001b[0m \u001b[0;34m\"AGENT\"\u001b[0m\u001b[0;34m]\u001b[0m\u001b[0;34m[\u001b[0m\u001b[0;34m\"Y\"\u001b[0m\u001b[0;34m]\u001b[0m\u001b[0;34m\u001b[0m\u001b[0;34m\u001b[0m\u001b[0m\n\u001b[0;32m--> 101\u001b[0;31m         \u001b[0magent_traj\u001b[0m \u001b[0;34m=\u001b[0m \u001b[0mnp\u001b[0m\u001b[0;34m.\u001b[0m\u001b[0mcolumn_stack\u001b[0m\u001b[0;34m(\u001b[0m\u001b[0;34m(\u001b[0m\u001b[0magent_x\u001b[0m\u001b[0;34m,\u001b[0m \u001b[0magent_y\u001b[0m\u001b[0;34m)\u001b[0m\u001b[0;34m)\u001b[0m\u001b[0;34m\u001b[0m\u001b[0;34m\u001b[0m\u001b[0m\n\u001b[0m\u001b[1;32m    102\u001b[0m         \u001b[0;32mreturn\u001b[0m \u001b[0magent_traj\u001b[0m\u001b[0;34m\u001b[0m\u001b[0;34m\u001b[0m\u001b[0m\n\u001b[1;32m    103\u001b[0m \u001b[0;34m\u001b[0m\u001b[0m\n",
      "\u001b[0;32m<__array_function__ internals>\u001b[0m in \u001b[0;36mcolumn_stack\u001b[0;34m(*args, **kwargs)\u001b[0m\n",
      "\u001b[0;32m~/.local/lib/python3.6/site-packages/numpy/lib/shape_base.py\u001b[0m in \u001b[0;36mcolumn_stack\u001b[0;34m(tup)\u001b[0m\n\u001b[1;32m    635\u001b[0m     \u001b[0marrays\u001b[0m \u001b[0;34m=\u001b[0m \u001b[0;34m[\u001b[0m\u001b[0;34m]\u001b[0m\u001b[0;34m\u001b[0m\u001b[0;34m\u001b[0m\u001b[0m\n\u001b[1;32m    636\u001b[0m     \u001b[0;32mfor\u001b[0m \u001b[0mv\u001b[0m \u001b[0;32min\u001b[0m \u001b[0mtup\u001b[0m\u001b[0;34m:\u001b[0m\u001b[0;34m\u001b[0m\u001b[0;34m\u001b[0m\u001b[0m\n\u001b[0;32m--> 637\u001b[0;31m         \u001b[0marr\u001b[0m \u001b[0;34m=\u001b[0m \u001b[0marray\u001b[0m\u001b[0;34m(\u001b[0m\u001b[0mv\u001b[0m\u001b[0;34m,\u001b[0m \u001b[0mcopy\u001b[0m\u001b[0;34m=\u001b[0m\u001b[0;32mFalse\u001b[0m\u001b[0;34m,\u001b[0m \u001b[0msubok\u001b[0m\u001b[0;34m=\u001b[0m\u001b[0;32mTrue\u001b[0m\u001b[0;34m)\u001b[0m\u001b[0;34m\u001b[0m\u001b[0;34m\u001b[0m\u001b[0m\n\u001b[0m\u001b[1;32m    638\u001b[0m         \u001b[0;32mif\u001b[0m \u001b[0marr\u001b[0m\u001b[0;34m.\u001b[0m\u001b[0mndim\u001b[0m \u001b[0;34m<\u001b[0m \u001b[0;36m2\u001b[0m\u001b[0;34m:\u001b[0m\u001b[0;34m\u001b[0m\u001b[0;34m\u001b[0m\u001b[0m\n\u001b[1;32m    639\u001b[0m             \u001b[0marr\u001b[0m \u001b[0;34m=\u001b[0m \u001b[0marray\u001b[0m\u001b[0;34m(\u001b[0m\u001b[0marr\u001b[0m\u001b[0;34m,\u001b[0m \u001b[0mcopy\u001b[0m\u001b[0;34m=\u001b[0m\u001b[0;32mFalse\u001b[0m\u001b[0;34m,\u001b[0m \u001b[0msubok\u001b[0m\u001b[0;34m=\u001b[0m\u001b[0;32mTrue\u001b[0m\u001b[0;34m,\u001b[0m \u001b[0mndmin\u001b[0m\u001b[0;34m=\u001b[0m\u001b[0;36m2\u001b[0m\u001b[0;34m)\u001b[0m\u001b[0;34m.\u001b[0m\u001b[0mT\u001b[0m\u001b[0;34m\u001b[0m\u001b[0;34m\u001b[0m\u001b[0m\n",
      "\u001b[0;32m~/.local/lib/python3.6/site-packages/pandas/core/series.py\u001b[0m in \u001b[0;36m__array__\u001b[0;34m(self, dtype)\u001b[0m\n\u001b[1;32m    946\u001b[0m             \u001b[0mwarnings\u001b[0m\u001b[0;34m.\u001b[0m\u001b[0mwarn\u001b[0m\u001b[0;34m(\u001b[0m\u001b[0mmsg\u001b[0m\u001b[0;34m,\u001b[0m \u001b[0mFutureWarning\u001b[0m\u001b[0;34m,\u001b[0m \u001b[0mstacklevel\u001b[0m\u001b[0;34m=\u001b[0m\u001b[0;36m3\u001b[0m\u001b[0;34m)\u001b[0m\u001b[0;34m\u001b[0m\u001b[0;34m\u001b[0m\u001b[0m\n\u001b[1;32m    947\u001b[0m             \u001b[0mdtype\u001b[0m \u001b[0;34m=\u001b[0m \u001b[0;34m\"M8[ns]\"\u001b[0m\u001b[0;34m\u001b[0m\u001b[0;34m\u001b[0m\u001b[0m\n\u001b[0;32m--> 948\u001b[0;31m         \u001b[0;32mreturn\u001b[0m \u001b[0mnp\u001b[0m\u001b[0;34m.\u001b[0m\u001b[0masarray\u001b[0m\u001b[0;34m(\u001b[0m\u001b[0mself\u001b[0m\u001b[0;34m.\u001b[0m\u001b[0marray\u001b[0m\u001b[0;34m,\u001b[0m \u001b[0mdtype\u001b[0m\u001b[0;34m)\u001b[0m\u001b[0;34m\u001b[0m\u001b[0;34m\u001b[0m\u001b[0m\n\u001b[0m\u001b[1;32m    949\u001b[0m \u001b[0;34m\u001b[0m\u001b[0m\n\u001b[1;32m    950\u001b[0m     \u001b[0;31m# ----------------------------------------------------------------------\u001b[0m\u001b[0;34m\u001b[0m\u001b[0;34m\u001b[0m\u001b[0;34m\u001b[0m\u001b[0m\n",
      "\u001b[0;32m~/.local/lib/python3.6/site-packages/pandas/core/base.py\u001b[0m in \u001b[0;36marray\u001b[0;34m(self)\u001b[0m\n\u001b[1;32m    910\u001b[0m             \u001b[0;32mfrom\u001b[0m \u001b[0mpandas\u001b[0m\u001b[0;34m.\u001b[0m\u001b[0mcore\u001b[0m\u001b[0;34m.\u001b[0m\u001b[0marrays\u001b[0m\u001b[0;34m.\u001b[0m\u001b[0mnumpy_\u001b[0m \u001b[0;32mimport\u001b[0m \u001b[0mPandasArray\u001b[0m\u001b[0;34m\u001b[0m\u001b[0;34m\u001b[0m\u001b[0m\n\u001b[1;32m    911\u001b[0m \u001b[0;34m\u001b[0m\u001b[0m\n\u001b[0;32m--> 912\u001b[0;31m             \u001b[0mresult\u001b[0m \u001b[0;34m=\u001b[0m \u001b[0mPandasArray\u001b[0m\u001b[0;34m(\u001b[0m\u001b[0mresult\u001b[0m\u001b[0;34m)\u001b[0m\u001b[0;34m\u001b[0m\u001b[0;34m\u001b[0m\u001b[0m\n\u001b[0m\u001b[1;32m    913\u001b[0m \u001b[0;34m\u001b[0m\u001b[0m\n\u001b[1;32m    914\u001b[0m         \u001b[0;32mreturn\u001b[0m \u001b[0mresult\u001b[0m\u001b[0;34m\u001b[0m\u001b[0;34m\u001b[0m\u001b[0m\n",
      "\u001b[0;32m~/.local/lib/python3.6/site-packages/pandas/core/arrays/numpy_.py\u001b[0m in \u001b[0;36m__init__\u001b[0;34m(self, values, copy)\u001b[0m\n\u001b[1;32m    121\u001b[0m \u001b[0;34m\u001b[0m\u001b[0m\n\u001b[1;32m    122\u001b[0m     \u001b[0;32mdef\u001b[0m \u001b[0m__init__\u001b[0m\u001b[0;34m(\u001b[0m\u001b[0mself\u001b[0m\u001b[0;34m,\u001b[0m \u001b[0mvalues\u001b[0m\u001b[0;34m,\u001b[0m \u001b[0mcopy\u001b[0m\u001b[0;34m=\u001b[0m\u001b[0;32mFalse\u001b[0m\u001b[0;34m)\u001b[0m\u001b[0;34m:\u001b[0m\u001b[0;34m\u001b[0m\u001b[0;34m\u001b[0m\u001b[0m\n\u001b[0;32m--> 123\u001b[0;31m         \u001b[0;32mif\u001b[0m \u001b[0misinstance\u001b[0m\u001b[0;34m(\u001b[0m\u001b[0mvalues\u001b[0m\u001b[0;34m,\u001b[0m \u001b[0mtype\u001b[0m\u001b[0;34m(\u001b[0m\u001b[0mself\u001b[0m\u001b[0;34m)\u001b[0m\u001b[0;34m)\u001b[0m\u001b[0;34m:\u001b[0m\u001b[0;34m\u001b[0m\u001b[0;34m\u001b[0m\u001b[0m\n\u001b[0m\u001b[1;32m    124\u001b[0m             \u001b[0mvalues\u001b[0m \u001b[0;34m=\u001b[0m \u001b[0mvalues\u001b[0m\u001b[0;34m.\u001b[0m\u001b[0m_ndarray\u001b[0m\u001b[0;34m\u001b[0m\u001b[0;34m\u001b[0m\u001b[0m\n\u001b[1;32m    125\u001b[0m         \u001b[0;32mif\u001b[0m \u001b[0;32mnot\u001b[0m \u001b[0misinstance\u001b[0m\u001b[0;34m(\u001b[0m\u001b[0mvalues\u001b[0m\u001b[0;34m,\u001b[0m \u001b[0mnp\u001b[0m\u001b[0;34m.\u001b[0m\u001b[0mndarray\u001b[0m\u001b[0;34m)\u001b[0m\u001b[0;34m:\u001b[0m\u001b[0;34m\u001b[0m\u001b[0;34m\u001b[0m\u001b[0m\n",
      "\u001b[0;31mKeyboardInterrupt\u001b[0m: "
     ]
    }
   ],
   "source": [
    "output_all = {}\n",
    "counter = 1\n",
    "for data in afl:\n",
    "    print('\\r'+str(counter)+'/'+str(len(afl)),end=\"\")\n",
    "    predict_traj = get_multiple_forecasts(data)\n",
    "    seq_id = int(data.current_seq.name[:-4])\n",
    "    output_all[seq_id] = predict_traj[:,20:,:]\n",
    "    counter += 1\n",
    "    "
   ]
  },
  {
   "cell_type": "markdown",
   "metadata": {},
   "source": [
    "## Generate the result file"
   ]
  },
  {
   "cell_type": "markdown",
   "metadata": {},
   "source": [
    "To participate in our competition, you need to upload the result file to our evaluation server on EvalAI https://evalai.cloudcv.org/. Make sure that your results are in the right format, and then call our helper function `generate_forecasting_h5`"
   ]
  },
  {
   "cell_type": "code",
   "execution_count": null,
   "metadata": {},
   "outputs": [
    {
     "name": "stdout",
     "output_type": "stream",
     "text": [
      "25747/78143"
     ]
    }
   ],
   "source": [
    "from argoverse.evaluation.competition_util import generate_forecasting_h5\n",
    "\n",
    "output_path = 'competition_files/'\n",
    "\n",
    "generate_forecasting_h5(output_all, output_path) #this might take awhile"
   ]
  },
  {
   "cell_type": "markdown",
   "metadata": {},
   "source": [
    "You are all set!! \n",
    "\n",
    "Simply upload the output file `competition_files/argoverse_forecasting_baseline.h5` to our evaluation server on https://evalai.cloudcv.org/ and see how well you did it"
   ]
  },
  {
   "cell_type": "code",
   "execution_count": null,
   "metadata": {},
   "outputs": [],
   "source": []
  }
 ],
 "metadata": {
  "kernelspec": {
   "display_name": "Python 3",
   "language": "python",
   "name": "python3"
  },
  "language_info": {
   "codemirror_mode": {
    "name": "ipython",
    "version": 3
   },
   "file_extension": ".py",
   "mimetype": "text/x-python",
   "name": "python",
   "nbconvert_exporter": "python",
   "pygments_lexer": "ipython3",
   "version": "3.6.9"
  }
 },
 "nbformat": 4,
 "nbformat_minor": 4
}
