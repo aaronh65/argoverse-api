{
 "cells": [
  {
   "cell_type": "markdown",
   "metadata": {},
   "source": [
    "# Weighted K Nearest Neighbors"
   ]
  },
  {
   "cell_type": "markdown",
   "metadata": {},
   "source": [
    "Algorithm: compute the K nearest neighbors of a trajectory as the predicted trajectories"
   ]
  },
  {
   "cell_type": "code",
   "execution_count": 1,
   "metadata": {},
   "outputs": [],
   "source": [
    "%matplotlib inline\n",
    "import matplotlib.pyplot as plt\n",
    "import numpy as np\n",
    "import pickle\n",
    "import multiprocessing as mp\n",
    "from tqdm import tnrange, tqdm_notebook, tqdm\n",
    "import time\n",
    "import os\n",
    "import sys"
   ]
  },
  {
   "cell_type": "code",
   "execution_count": 2,
   "metadata": {},
   "outputs": [],
   "source": [
    "from argoverse.data_loading.argoverse_forecasting_loader import ArgoverseForecastingLoader\n",
    "from argoverse.map_representation.map_api import ArgoverseMap\n",
    "from argoverse.visualization.visualize_sequences import viz_sequence\n",
    "from IPython.display import clear_output"
   ]
  },
  {
   "cell_type": "code",
   "execution_count": 3,
   "metadata": {},
   "outputs": [],
   "source": [
    "def normalize_trajectory(traj):\n",
    "    norm_traj = traj - traj[0]\n",
    "    theta = -np.arctan2(norm_traj[19][1],norm_traj[19][0])\n",
    "    rot_mat = ((np.cos(theta), -np.sin(theta)), (np.sin(theta), np.cos(theta)))\n",
    "    norm_traj = np.matmul(rot_mat, norm_traj.T).T\n",
    "    return norm_traj"
   ]
  },
  {
   "cell_type": "code",
   "execution_count": 4,
   "metadata": {},
   "outputs": [],
   "source": [
    "def build_lookup(afl, output_path):\n",
    "    if os.path.exists(output_path):\n",
    "        sys.exit(f'output path \\\"{output_path}\\\" already exists')\n",
    "    num_seqs = len(afl)\n",
    "    lookup = [None] * num_seqs\n",
    "    #print(f'Processing {num_seqs} sequences')\n",
    "    for idx in tqdm(range(num_seqs)):\n",
    "        seq = afl[idx]\n",
    "        lookup[idx] = normalize_trajectory(seq.agent_traj)\n",
    "    lookup = np.asarray(lookup)\n",
    "    np.save(output_path, lookup)\n",
    "        "
   ]
  },
  {
   "cell_type": "code",
   "execution_count": null,
   "metadata": {},
   "outputs": [],
   "source": [
    "root_dir = '/home/aaron/workspace/argoverse/data/forecasting_train_v1.1/train/data'\n",
    "afl = ArgoverseForecastingLoader(root_dir)\n",
    "build_lookup(afl, 'lookup.npy')"
   ]
  },
  {
   "cell_type": "code",
   "execution_count": null,
   "metadata": {},
   "outputs": [],
   "source": [
    "root_dir = '/home/aaron/workspace/argoverse/data/forecasting_val_v1.1/val/data'\n",
    "afl = ArgoverseForecastingLoader(root_dir)\n",
    "val_trajectories = [None] * len(afl)\n",
    "for idx in tqdm(range(len(afl))):\n",
    "    val_trajectories[idx] = afl[idx].agent_traj\n",
    "np.save('val_trajectories.npy',val_trajectories)"
   ]
  },
  {
   "cell_type": "code",
   "execution_count": 5,
   "metadata": {},
   "outputs": [],
   "source": [
    "def get_top_k(target_traj, lookup, k=6):\n",
    "    norm_target_traj = normalize_trajectory(target_traj)\n",
    "    distances = np.subtract(lookup[:,:20], norm_target_traj[:20])\n",
    "    distances = np.linalg.norm(distances, axis=(1,2))\n",
    "    top_k_idxs = np.argsort(distances)\n",
    "    return distances, top_k_idxs[:k]"
   ]
  },
  {
   "cell_type": "code",
   "execution_count": 6,
   "metadata": {},
   "outputs": [],
   "source": [
    "def smooth_prediction(predict_traj, agent_traj):\n",
    "    agent_dx = agent_traj[19,0] - agent_traj[18,0]\n",
    "    agent_dy = agent_traj[19,1] - agent_traj[18,1]\n",
    "    target_x = agent_traj[19,0] + agent_dx\n",
    "    target_y = agent_traj[19,1] + agent_dy\n",
    "    shift_x = target_x - predict_traj[20,0]\n",
    "    shift_y = target_y - predict_traj[20,1]\n",
    "    predict_traj[:,0] += shift_x\n",
    "    predict_traj[:,1] += shift_y\n",
    "    return predict_traj"
   ]
  },
  {
   "cell_type": "code",
   "execution_count": 7,
   "metadata": {},
   "outputs": [],
   "source": [
    "def compute_metrics(predictions, agent_traj):\n",
    "    #target_traj = np.asarray(test_seq.agent_traj)\n",
    "    distances = predictions-agent_traj\n",
    "    error = np.linalg.norm(distances[:,20:,:],axis=2)\n",
    "    final_error = error[:,-1]\n",
    "    fde_idx = np.argmin(final_error)\n",
    "    fde = final_error[fde_idx]\n",
    "    ade = np.mean(error[fde_idx])\n",
    "    misses = len(final_error[final_error > 2.0])\n",
    "    mr = misses/predictions.shape[0]\n",
    "    return fde_idx, fde, ade, mr"
   ]
  },
  {
   "cell_type": "code",
   "execution_count": 8,
   "metadata": {},
   "outputs": [],
   "source": [
    "def get_multiple_forecasts(agent_traj, lookup, k=6, plot=False, is_test=True):\n",
    "    predictions = [None] * k\n",
    "    #agent_traj = test_seq.agent_traj\n",
    "    origin_agent_traj = agent_traj - agent_traj[0]\n",
    "    norm_agent_traj = normalize_trajectory(agent_traj)\n",
    "    distances, top_k_idxs = get_top_k(norm_agent_traj, lookup, k=6)\n",
    "    for idx, k in enumerate(top_k_idxs):\n",
    "        predict_traj = lookup[k]\n",
    "        # using cosine dot product relation to determine angular difference between trajectories\n",
    "        arg = np.dot(predict_traj[19], origin_agent_traj[19])/ np.linalg.norm(predict_traj[19])/np.linalg.norm(origin_agent_traj[19])\n",
    "        theta = np.arccos(np.clip(arg, -1.0, 1.0))\n",
    "        if origin_agent_traj[19,1] < 0:\n",
    "            # rotate in negative angle direction (cw)\n",
    "            theta *= -1\n",
    "        rot_mat = ((np.cos(theta), -np.sin(theta)), (np.sin(theta), np.cos(theta)))\n",
    "        t_predict_traj = np.matmul(rot_mat, predict_traj.T).T + agent_traj[0]\n",
    "#         if np.linalg.norm(t_predict_traj[20]-agent_traj[19]) > 1:\n",
    "#             t_predict_traj = smooth_prediction(t_predict_traj, agent_traj)\n",
    "        t_predict_traj[:20] = agent_traj[:20]\n",
    "        predictions[idx] = t_predict_traj\n",
    "    predictions = np.asarray(predictions)\n",
    "    \n",
    "    #metrics = compute_metrics(predictions, test_seq)\n",
    "    if not is_test:\n",
    "        metrics = compute_metrics(predictions, agent_traj)\n",
    "        fde_idx, fde, ade, mr = metrics\n",
    "    else:\n",
    "        metrics = None\n",
    "    if plot:\n",
    "        boldwidth=3\n",
    "        fig, ax = plt.subplots(nrows=2, ncols=1, figsize=(10,10))\n",
    "        #ax = plt.gca().set_aspect('equal')\n",
    "        # plot starting point\n",
    "        ax[0].set_title('predictions')\n",
    "        ax[0].plot(agent_traj[0,0], agent_traj[0,1],'-o', c='r')\n",
    "        ax[0].plot(agent_traj[:,0], agent_traj[:,1],c='r',linewidth=boldwidth)\n",
    "        for idx, prediction in enumerate(predictions):\n",
    "            if not is_test:\n",
    "                linewidth = boldwidth if idx == fde_idx else 1\n",
    "                linecolor = 'b' if idx == fde_idx else np.random.random(3,)\n",
    "            else:\n",
    "                linewidth = 1\n",
    "                linecolor = np.random.random(3,)\n",
    "                \n",
    "            \n",
    "            #ax[0].plot(prediction[19,0], prediction[19,1],'-o',c=linecolor)\n",
    "            ax[0].plot(prediction[19:,0], prediction[19:,1],c=linecolor, linewidth=linewidth)\n",
    "        ax[1].set_title('normalized predictions')\n",
    "        ax[1].plot(norm_agent_traj[0,0], norm_agent_traj[0,1],'-o', c='r')\n",
    "        ax[1].plot(norm_agent_traj[:,0], norm_agent_traj[:,1],c='r',linewidth=boldwidth)\n",
    "        for idx, k in enumerate(top_k_idxs):\n",
    "            if not is_test:\n",
    "                linewidth = boldwidth if idx == fde_idx else 1\n",
    "                linecolor = 'b' if idx == fde_idx else np.random.random(3,)\n",
    "            else:\n",
    "                linewidth = 1\n",
    "                linecolor = np.random.random(3,)\n",
    "            norm_prediction = lookup[k]\n",
    "            #ax[1].plot(norm_prediction[19,0], norm_prediction[19,1],'-o',c=linecolor)\n",
    "            ax[1].plot(norm_prediction[19:,0], norm_prediction[19:,1],c=linecolor, linewidth=linewidth)\n",
    "    return top_k_idxs, predictions, metrics\n",
    "    "
   ]
  },
  {
   "cell_type": "code",
   "execution_count": null,
   "metadata": {},
   "outputs": [],
   "source": [
    "root_dir = '/home/aaron/workspace/argoverse/data/forecasting_test_v1.1/test_obs/data'\n",
    "#root_dir = '/home/aaron/workspace/argoverse/data/forecasting_sample_v1.1/forecasting_sample/data'\n",
    "afl = ArgoverseForecastingLoader(root_dir)\n",
    "lookup = np.load('lookup.npy', allow_pickle=True)\n"
   ]
  },
  {
   "cell_type": "code",
   "execution_count": null,
   "metadata": {},
   "outputs": [],
   "source": [
    "idx = np.random.randint(len(afl))\n",
    "agent_traj = afl[idx].agent_traj\n",
    "top_k_idxs, predictions, metrics = get_multiple_forecasts(agent_traj, lookup, plot=True, is_test=True)\n",
    "print(predictions.shape)"
   ]
  },
  {
   "cell_type": "code",
   "execution_count": 11,
   "metadata": {},
   "outputs": [
    {
     "name": "stderr",
     "output_type": "stream",
     "text": [
      "100%|██████████| 78143/78143 [1:44:51<00:00, 12.42it/s]\n"
     ]
    }
   ],
   "source": [
    "output_all = dict()\n",
    "root_dir = '/home/aaron/workspace/argoverse/data/forecasting_test_v1.1/test_obs/data'\n",
    "#root_dir = '/home/aaron/workspace/argoverse/data/forecasting_sample_v1.1/forecasting_sample/data'\n",
    "afl = ArgoverseForecastingLoader(root_dir)\n",
    "test_trajectories = np.load('test_trajectories.npy')\n",
    "lookup = np.load('lookup.npy')\n",
    "for idx in tqdm(range(len(test_trajectories))):\n",
    "#for idx in tqdm(range(10)):\n",
    "    agent_traj = test_trajectories[idx]\n",
    "    data = afl[idx]\n",
    "    top_k_idxs, predictions, metrics = get_multiple_forecasts(agent_traj, lookup)\n",
    "    seq_id = int(data.current_seq.name[:-4])\n",
    "    output_all[seq_id] = predictions[:,20:,:]\n",
    "np.save('knn_baseline_output_all.npy', output_all)\n",
    "# times = list()\n",
    "# for traj in test_trajectories[:10]:\n",
    "#     start = time.time()\n",
    "#     get_multiple_forecasts(traj, lookup)\n",
    "#     times.append(time.time()-start)\n",
    "# print(np.mean(times))"
   ]
  },
  {
   "cell_type": "code",
   "execution_count": 12,
   "metadata": {},
   "outputs": [
    {
     "name": "stdout",
     "output_type": "stream",
     "text": [
      "78143/78143"
     ]
    }
   ],
   "source": [
    "from argoverse.evaluation.competition_util import generate_forecasting_h5\n",
    "\n",
    "output_path = 'competition_files/'\n",
    "\n",
    "generate_forecasting_h5(output_all, output_path, filename='knn_baseline') #this might take awhile"
   ]
  },
  {
   "cell_type": "code",
   "execution_count": 1,
   "metadata": {},
   "outputs": [
    {
     "ename": "NameError",
     "evalue": "name 'output_all' is not defined",
     "output_type": "error",
     "traceback": [
      "\u001b[0;31m---------------------------------------------------------------------------\u001b[0m",
      "\u001b[0;31mNameError\u001b[0m                                 Traceback (most recent call last)",
      "\u001b[0;32m<ipython-input-1-9c3842d748a2>\u001b[0m in \u001b[0;36m<module>\u001b[0;34m\u001b[0m\n\u001b[0;32m----> 1\u001b[0;31m \u001b[0mlen\u001b[0m\u001b[0;34m(\u001b[0m\u001b[0moutput_all\u001b[0m\u001b[0;34m.\u001b[0m\u001b[0mkeys\u001b[0m\u001b[0;34m(\u001b[0m\u001b[0;34m)\u001b[0m\u001b[0;34m)\u001b[0m\u001b[0;34m\u001b[0m\u001b[0;34m\u001b[0m\u001b[0m\n\u001b[0m",
      "\u001b[0;31mNameError\u001b[0m: name 'output_all' is not defined"
     ]
    }
   ],
   "source": [
    "len(output_all.keys())"
   ]
  },
  {
   "cell_type": "code",
   "execution_count": null,
   "metadata": {},
   "outputs": [],
   "source": []
  }
 ],
 "metadata": {
  "kernelspec": {
   "display_name": "Python 3",
   "language": "python",
   "name": "python3"
  },
  "language_info": {
   "codemirror_mode": {
    "name": "ipython",
    "version": 3
   },
   "file_extension": ".py",
   "mimetype": "text/x-python",
   "name": "python",
   "nbconvert_exporter": "python",
   "pygments_lexer": "ipython3",
   "version": "3.6.9"
  }
 },
 "nbformat": 4,
 "nbformat_minor": 4
}
